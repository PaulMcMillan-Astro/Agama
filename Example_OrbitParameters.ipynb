{
 "cells": [
  {
   "cell_type": "code",
   "execution_count": null,
   "metadata": {
    "collapsed": true
   },
   "outputs": [],
   "source": [
    "import agama\n",
    "import numpy as np\n",
    "import matplotlib.pyplot as plt"
   ]
  },
  {
   "cell_type": "markdown",
   "metadata": {},
   "source": [
    "# Examples of the ActionFinder including finding orbit paramters\n",
    "\n",
    "This notebook has been written primarily to demonstrate the ability to derive orbit parameters using the Staeckel fudge, added by Paul McMillan 04/2022, following the approach of [Mackereth & Bovy (2018)](https://ui.adsabs.harvard.edu/abs/2018PASP..130k4501M/abstract)"
   ]
  },
  {
   "cell_type": "markdown",
   "metadata": {},
   "source": [
    "#### Set units mass=Msun, length = 1 kpc, velocity = km/s"
   ]
  },
  {
   "cell_type": "code",
   "execution_count": null,
   "metadata": {
    "collapsed": true
   },
   "outputs": [],
   "source": [
    "agama.setUnits(mass=1, length=1, velocity=1)"
   ]
  },
  {
   "cell_type": "markdown",
   "metadata": {},
   "source": [
    "#### Define gravitational potential (e.g., the one from McMillan 2017), and initiate the object that determines actions in this potential"
   ]
  },
  {
   "cell_type": "code",
   "execution_count": null,
   "metadata": {
    "collapsed": true
   },
   "outputs": [],
   "source": [
    "pot= agama.Potential('data/McMillan17.ini')\n",
    "af_fudge = agama.ActionFinder(pot)"
   ]
  },
  {
   "cell_type": "markdown",
   "metadata": {},
   "source": [
    "## Example 1: The orbit of the Sun"
   ]
  },
  {
   "cell_type": "code",
   "execution_count": null,
   "metadata": {
    "collapsed": true
   },
   "outputs": [],
   "source": [
    "Sun_v = np.array([8.2,0,0.014,11.1,-245,7.25])"
   ]
  },
  {
   "cell_type": "code",
   "execution_count": null,
   "metadata": {
    "collapsed": false
   },
   "outputs": [],
   "source": [
    "J,theta,orbpar,freq = af_fudge(Sun_v,angles=True,orbitparameters=True)\n",
    "print('J_R=%.2f, J_z=%.2f, J_phi=%.1f km/s/kpc' % (J[0],J[1],J[2]))\n",
    "print('theta_R, theta_z, theta_phi = %.3f, %.3f, %.3f' % (theta[0], theta[1], theta[2]))\n",
    "print('Rmin, Rmax, Zmax = %.3f, %.3f, %.3f kpc' % (orbpar[0], orbpar[1], orbpar[2]))\n",
    "print('omega_R, omega_Z, omega_phi = %.3f, %.3f, %.3f /Myr' % (freq[0], freq[1], freq[2]))\n"
   ]
  },
  {
   "cell_type": "markdown",
   "metadata": {},
   "source": [
    "## Example 2: An orbit with escape velocity (10$\\times$ velocity of the Sun)"
   ]
  },
  {
   "cell_type": "code",
   "execution_count": null,
   "metadata": {
    "collapsed": false
   },
   "outputs": [],
   "source": [
    "Escape_v = np.array([8.2,0,0.014,11.1,-2450,7.25])\n",
    "J,theta,orbpar,freq = af_fudge(Escape_v,angles=True,orbitparameters=True)\n",
    "print('J_R=%.2f, J_z=%.2f, J_phi=%.1f km/s/kpc' % (J[0],J[1],J[2]))\n",
    "print('theta_R, theta_z, theta_phi = %.3f, %.3f, %.3f' % (theta[0], theta[1], theta[2]))\n",
    "print('Rmin, Rmax, Zmax = %.3f, %.3f, %.3f kpc' % (orbpar[0], orbpar[1], orbpar[2]))\n",
    "print('omega_R, omega_Z, omega_phi = %.3f, %.3f, %.3f /Myr' % (freq[0], freq[1], freq[2]))\n"
   ]
  },
  {
   "cell_type": "markdown",
   "metadata": {},
   "source": [
    "Note that actions etc are undefined for this orbit.\n",
    "\n",
    "One of the values given here should actually not be undefined, and it is a shortcoming of the approach that it is given as nan. Which one?"
   ]
  },
  {
   "cell_type": "markdown",
   "metadata": {},
   "source": [
    "## Example 1, continued"
   ]
  },
  {
   "cell_type": "code",
   "execution_count": null,
   "metadata": {
    "collapsed": false
   },
   "outputs": [],
   "source": [
    "times,points = agama.orbit(ic=Sun_v,potential=pot,time=1,trajsize=1001)\n",
    "J,theta,orbpar,freq = af_fudge(Sun_v,angles=True,orbitparameters=True)"
   ]
  },
  {
   "cell_type": "markdown",
   "metadata": {},
   "source": [
    "### Compare integrated orbit in R,z with Rmin, Rmax, Zmax computed"
   ]
  },
  {
   "cell_type": "code",
   "execution_count": null,
   "metadata": {
    "collapsed": false
   },
   "outputs": [],
   "source": [
    "plt.plot((points[:,0]**2+points[:,1]**2)**0.5,points[:,2])\n",
    "plt.plot([orbpar[0],orbpar[0],orbpar[1],orbpar[1]],[orbpar[2],-orbpar[2],orbpar[2],-orbpar[2]], 'kx')\n",
    "plt.xlabel('R')\n",
    "plt.ylabel('z')\n",
    "plt.show()"
   ]
  },
  {
   "cell_type": "markdown",
   "metadata": {},
   "source": [
    "(N.B., there is an important bad choice I have made to show the above plot, which does make it easier to read. What is it?)"
   ]
  },
  {
   "cell_type": "code",
   "execution_count": null,
   "metadata": {
    "collapsed": false
   },
   "outputs": [],
   "source": [
    "# integrate for longer so we can be sure we cover the whole orbit\n",
    "times,points = agama.orbit(ic=Sun_v,potential=pot,time=100,trajsize=10001)\n",
    "print( 'Zmax: %.5f vs %.5f' % (np.max(points[:,2]), orbpar[2]))\n",
    "\n",
    "R = (points[:,0]**2+points[:,1]**2)**0.5\n",
    "print( 'Rmin: %.5f vs %.5f' % (np.min(R), orbpar[0]))\n",
    "print( 'Rmax: %.5f vs %.5f' % (np.max(R), orbpar[1]))"
   ]
  },
  {
   "cell_type": "markdown",
   "metadata": {},
   "source": [
    "So these are pretty good approximations. There will be orbits where it does not work so well."
   ]
  },
  {
   "cell_type": "markdown",
   "metadata": {},
   "source": [
    "# Now we look at actions, and try to develop some intuative understanding\n",
    "\n",
    "### The easiest way to do so is to look at a 'surface of section'\n",
    "\n",
    "Choose a line thats passes through the orbit in the R-z plane, and when the orbit passes it plot the position along the line and the velocity along the line,\n",
    "\n",
    "e.g., the line z=0, so we're plotting R, vR\n"
   ]
  },
  {
   "cell_type": "code",
   "execution_count": null,
   "metadata": {
    "collapsed": false
   },
   "outputs": [],
   "source": [
    "def polyArea(X,Y):\n",
    "    '''Function that returns the area of a polygon from the positions of its verticies'''\n",
    "    return 0.5*np.abs(np.sum(X[1:]*Y[:-1] - Y[1:]*X[:-1]) + X[0]*Y[-1] - Y[0]*X[-1])\n",
    "\n",
    "# quick and dirty, take points where distance z=0 is very small\n",
    "mask = np.abs(points[:,2] ) < 0.001\n",
    "vR = (points[:,0]*points[:,3] + points[:,1]*points[:,4])/R\n",
    "RSOS, vRSOS = R[mask],vR[mask]\n",
    "plt.plot(RSOS,vRSOS,'.')\n",
    "plt.xlabel('R')\n",
    "plt.ylabel('vR')\n",
    "\n",
    "sorter = np.arctan2(vRSOS, RSOS - np.mean(RSOS))\n",
    "argsort = np.argsort(sorter)\n",
    "RSOS, vRSOS = RSOS[argsort], vRSOS[argsort]\n",
    "print('Area >= %.2f' % polyArea(RSOS,vRSOS) )\n",
    "print('Jr*2pi = %.2f' % (J[0] *2*np.pi))\n",
    "plt.show()"
   ]
  },
  {
   "cell_type": "markdown",
   "metadata": {},
   "source": [
    "The area inside the curve is $2\\pi J_r$\n",
    "\n",
    "Similarly, if we do the same at R=R_divide (where R_divide is in the range where the line will cut through the top & bottom of the orbit)"
   ]
  },
  {
   "cell_type": "code",
   "execution_count": null,
   "metadata": {
    "collapsed": false
   },
   "outputs": [],
   "source": [
    "R_divide = 8.6\n",
    "# quick and dirty again\n",
    "mask = np.abs(R-R_divide) < 0.005\n",
    "ZSOS, vZSOS = (points[:,2])[mask], (points[:,5])[mask]\n",
    "plt.plot(ZSOS,vZSOS,'.')\n",
    "plt.xlabel('Z')\n",
    "plt.ylabel('vZ')\n",
    "\n",
    "sorter = np.arctan2(vZSOS, ZSOS)\n",
    "argsort = np.argsort(sorter)\n",
    "ZSOS, vZSOS = ZSOS[argsort], vZSOS[argsort]\n",
    "print('Area >= %.2f' % polyArea(ZSOS,vZSOS) )\n",
    "print('Jz*2pi = %.2f' % (J[1] *2*np.pi))\n",
    "plt.show()"
   ]
  },
  {
   "cell_type": "markdown",
   "metadata": {},
   "source": [
    "Note that we could have picked z= z_divide for any z_divide which intersects the right and left sides of the orbit, and an r=R_divide anywhere that intersects the top and bottom of the orbit.\n",
    "\n",
    "Try it for yourself!\n",
    "\n",
    "Indeed any sloped (or even curved) line in the R-z plane (as long as again it intersected right & left or top & bottom) would work. In that case we would need to be careful that the velocity we plotted was the velocity along that line (which would be function of, at minimum, vZ and vR)"
   ]
  },
  {
   "cell_type": "code",
   "execution_count": null,
   "metadata": {
    "collapsed": true
   },
   "outputs": [],
   "source": []
  },
  {
   "cell_type": "markdown",
   "metadata": {},
   "source": [
    "## As velocities get further from that of a circular orbit, the orbit paths can get complicated, e.g., below one has to be careful to intersect top and bottom, and not leave region the orbit covers"
   ]
  },
  {
   "cell_type": "code",
   "execution_count": null,
   "metadata": {
    "collapsed": false
   },
   "outputs": [],
   "source": [
    "v_alt = np.array([8.2,0,0.014,2.1,-220,120.25])\n",
    "times,points = agama.orbit(ic=v_alt,potential=pot,time=3,trajsize=1001)\n",
    "J,theta,orbpar,freq = af_fudge(v_alt,angles=True,orbitparameters=True)\n",
    "\n",
    "plt.plot((points[:,0]**2+points[:,1]**2)**0.5,points[:,2])\n",
    "plt.plot([orbpar[0],orbpar[0],orbpar[1],orbpar[1]],[orbpar[2],-orbpar[2],orbpar[2],-orbpar[2]], 'kx')\n",
    "plt.xlabel('R')\n",
    "plt.ylabel('z')\n",
    "#plt.gca().set_aspect(1)\n",
    "plt.show()\n"
   ]
  },
  {
   "cell_type": "markdown",
   "metadata": {},
   "source": [
    "# And life can get more complicated still. For example, what's going on with this orbit?"
   ]
  },
  {
   "cell_type": "code",
   "execution_count": null,
   "metadata": {
    "collapsed": false
   },
   "outputs": [],
   "source": [
    "v_alt = np.array([8.2,0,0.014,50.1,-150,77.5])\n",
    "J,theta,orbpar,freq = af_fudge(v_alt,angles=True,orbitparameters=True)\n",
    "freq\n",
    "times,points = agama.orbit(ic=v_alt,potential=pot,time=3,trajsize=1001)\n",
    "plt.plot((points[:,0]**2+points[:,1]**2)**0.5,points[:,2])\n",
    "plt.plot([orbpar[0],orbpar[0],orbpar[1],orbpar[1]],[orbpar[2],-orbpar[2],orbpar[2],-orbpar[2]], 'kx')\n",
    "plt.xlabel('R')\n",
    "plt.ylabel('z')\n",
    "#plt.gca().set_aspect(1)\n",
    "\n",
    "plt.show()"
   ]
  },
  {
   "cell_type": "markdown",
   "metadata": {},
   "source": [
    "### If I plot it's surface of section..."
   ]
  },
  {
   "cell_type": "code",
   "execution_count": null,
   "metadata": {
    "collapsed": false
   },
   "outputs": [],
   "source": [
    "mask = np.abs(points[:,2] ) < 0.1\n",
    "R = (points[:,0]**2+points[:,1]**2)**0.5\n",
    "vR = (points[:,0]*points[:,3] + points[:,1]*points[:,4])/R\n",
    "RSOS, vRSOS = R[mask],vR[mask]\n",
    "plt.plot(RSOS,vRSOS,'.')\n",
    "plt.xlabel('R')\n",
    "plt.ylabel('vR')\n",
    "plt.show()"
   ]
  },
  {
   "cell_type": "markdown",
   "metadata": {},
   "source": [
    "Hmm. Maybe I should look at its orbital frequencies..."
   ]
  }
 ],
 "metadata": {
  "kernelspec": {
   "display_name": "Python 3",
   "language": "python",
   "name": "python3"
  },
  "language_info": {
   "codemirror_mode": {
    "name": "ipython",
    "version": 3
   },
   "file_extension": ".py",
   "mimetype": "text/x-python",
   "name": "python",
   "nbconvert_exporter": "python",
   "pygments_lexer": "ipython3",
   "version": "3.5.2"
  }
 },
 "nbformat": 4,
 "nbformat_minor": 2
}
